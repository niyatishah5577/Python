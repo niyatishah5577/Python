{
 "cells": [
  {
   "cell_type": "markdown",
   "id": "8929e64c",
   "metadata": {},
   "source": [
    "1. How do you distinguish between shutil.copy() and shutil.copytree()?\n",
    "copy() will copy a single file, shutil. copytree() will copy an entire folder and every folder and file contained in it.\n",
    "2. What function is used to rename files??\n",
    "shutil.rename()\n",
    "3. What is the difference between the delete functions in the send2trash and shutil modules?\n",
    "The send2trash functions will move a file or folder to the recycle bin, while shutil functions will permanently delete files and folders.\n",
    "4.ZipFile objects have a close() method just like File objects’ close() method. What ZipFile method is equivalent to File objects’ open() method?\n",
    "extract() \n",
    "5. Create a programme that searches a folder tree for files with a certain file extension (such as .pdf or .jpg). Copy these files from whatever location they are in to a new folder.\n",
    "\n"
   ]
  },
  {
   "cell_type": "code",
   "execution_count": 4,
   "id": "f172fa57",
   "metadata": {},
   "outputs": [
    {
     "name": "stdout",
     "output_type": "stream",
     "text": [
      "enter folderkanye-quotes-start (1)\n",
      "path D:\\kanye-quotes-start (1)\n",
      "background.png\n",
      "kanye.png\n",
      "your files are copied to: 'E:\\copied'\n"
     ]
    }
   ],
   "source": [
    "#5\n",
    "import os\n",
    "import shutil\n",
    "results=[]\n",
    "all_folders={}\n",
    "\n",
    "\n",
    "def get_key(val):\n",
    "    for key, value in all_folders.items():\n",
    "        if val == value:\n",
    "            return key\n",
    "\n",
    "    return \"key doesn't exist\"\n",
    "def getfiles(folder):\n",
    "        for i in all_disks:\n",
    "            all_folders[i]=os.listdir(i)\n",
    "        cnt=0\n",
    "        for vals in all_folders.values():\n",
    "            if folder in vals:\n",
    "                path=get_key(vals)+folder\n",
    "                print(\"path\",path)\n",
    "                #open folder and list files\n",
    "                for files in os.listdir(path):\n",
    "                    if files.endswith(('.png', '.jpg', '.jpeg')):\n",
    "                        shutil.copy2((path+\"\\\\\"+files),'E:\\copied')\n",
    "                        print(files)\n",
    "                print(\"your files are copied to: 'E:\\copied'\")\n",
    "            else:\n",
    "                 cnt+=1\n",
    "        if cnt==4:\n",
    "            print(\"given folder dosent exist\")\n",
    "all_disks=['D:\\\\','F:\\\\','C:\\\\','E:\\\\']\n",
    "getfiles(input(\"enter folder\"))"
   ]
  },
  {
   "cell_type": "code",
   "execution_count": 2,
   "id": "b65d39f7",
   "metadata": {},
   "outputs": [
    {
     "data": {
      "text/plain": [
       "'C:\\\\Users\\\\Lenovo\\\\Untitled Folder 2'"
      ]
     },
     "execution_count": 2,
     "metadata": {},
     "output_type": "execute_result"
    }
   ],
   "source": []
  },
  {
   "cell_type": "code",
   "execution_count": null,
   "id": "8e174f91",
   "metadata": {},
   "outputs": [],
   "source": []
  }
 ],
 "metadata": {
  "kernelspec": {
   "display_name": "Python 3 (ipykernel)",
   "language": "python",
   "name": "python3"
  },
  "language_info": {
   "codemirror_mode": {
    "name": "ipython",
    "version": 3
   },
   "file_extension": ".py",
   "mimetype": "text/x-python",
   "name": "python",
   "nbconvert_exporter": "python",
   "pygments_lexer": "ipython3",
   "version": "3.9.7"
  }
 },
 "nbformat": 4,
 "nbformat_minor": 5
}
