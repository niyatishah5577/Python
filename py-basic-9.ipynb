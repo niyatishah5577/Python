{
 "cells": [
  {
   "cell_type": "markdown",
   "id": "2ccd1004",
   "metadata": {},
   "source": [
    "1. To what does a relative path refer?\n",
    "A relative path refers to a location that is relative to a current directory.\n",
    "2. What does an absolute path start with your operating system?\n",
    "starting from the root element and ending with the other subdirectories.\n",
    "\n",
    "3. What do the functions os.getcwd() and os.chdir() do?\n",
    "os.getcwd(): current working directory\n",
    "os.chdir(): Takes in path and chages current working directory\n",
    "\n",
    "4. What are the . and .. folders?\n",
    ". is used to run executables to run in current directory\n",
    ".. is used to move one directory up.\n",
    "\n",
    "5. In C:\\bacon\\eggs\\spam.txt, which part is the dir name, and which part is the base name?\n",
    "C:\\bacon\\eggs is the dir name, while spam.txt is the base name.\n",
    "\n",
    "6. What are the three “mode” arguments that can be passed to the open() function?\n",
    "read,write,append\n",
    "\n",
    "7. What happens if an existing file is opened in write mode?\n",
    "it will overwrite all the content.\n",
    "\n",
    "8. How do you tell the difference between read() and readlines()?\n",
    "read returns entire file as one string. readlines() with convert it into multiple strings and return as array.\n",
    "\n",
    "9. What data structure does a shelf value resemble?\n",
    "A shelf value resembles a dictionary value it has keys and values, along with keys() and values() methods that work similarly to the dictionary methods of the same names."
   ]
  }
 ],
 "metadata": {
  "kernelspec": {
   "display_name": "Python 3 (ipykernel)",
   "language": "python",
   "name": "python3"
  },
  "language_info": {
   "codemirror_mode": {
    "name": "ipython",
    "version": 3
   },
   "file_extension": ".py",
   "mimetype": "text/x-python",
   "name": "python",
   "nbconvert_exporter": "python",
   "pygments_lexer": "ipython3",
   "version": "3.9.7"
  }
 },
 "nbformat": 4,
 "nbformat_minor": 5
}
