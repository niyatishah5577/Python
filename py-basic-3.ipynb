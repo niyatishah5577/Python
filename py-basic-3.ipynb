{
 "cells": [
  {
   "cell_type": "markdown",
   "id": "519cc442",
   "metadata": {},
   "source": [
    "1. Why are functions advantageous to have in your programs?\n",
    "Functions are advantangous as it ensures reusability of code.\n",
    "2. When does the code in a function run: when it's specified or when it's called?\n",
    "when it's called\n",
    "3. What statement creates a function?\n",
    "A function is created with the def keyword. The statements in the block of the function must be indented. The def keyword is followed by the function name with round brackets and a colon.\n",
    "4. What is the difference between a function and a function call?\n",
    "a function describes procedure to achieve a particular result while function call invokes that function i.e it calls the function and result is achieved after function call.\n",
    "\n",
    "5. How many global scopes are there in a Python program? How many local scopes?\n",
    "there is only one global scope in python program while each block creates one local scopes.\n",
    "\n",
    "6. What happens to variables in a local scope when the function call returns?\n",
    "a local variable becomes undefined after function call returns\n",
    "\n",
    "7. What is the concept of a return value? Is it possible to have a return value in an expression?\n",
    "Return is a keyword that returns any result achieved during function call. return keyword cannot be used outside an function. however, return keyword can return an expression inside function.\n",
    "\n",
    "8. If a function does not have a return statement, what is the return value of a call to that function?\n",
    "if there is no return statement, it returns none.\n",
    "\n",
    "9. How do you make a function variable refer to the global variable?\n",
    "we can add keyword global before a variable. it ensures that our variable is referring to global variable\n",
    "\n",
    "10. What is the data type of None?\n",
    "NoneType\n",
    "\n",
    "11. What does the sentence import areallyourpetsnamederic do?\n",
    "it will import all the methods,variables from the module.\n",
    "\n",
    "12. If you had a bacon() feature in a spam module, what would you call it after importing spam?\n",
    "spam.bacon()\n",
    "\n",
    "13. What can you do to save a programme from crashing if it encounters an error?\n",
    "raise an exception\n",
    "\n",
    "14. What is the purpose of the try clause? What is the purpose of the except clause?\n",
    "try clause runs the code and if there is an exception it sends it to except clause where it is handled."
   ]
  }
 ],
 "metadata": {
  "kernelspec": {
   "display_name": "Python 3 (ipykernel)",
   "language": "python",
   "name": "python3"
  },
  "language_info": {
   "codemirror_mode": {
    "name": "ipython",
    "version": 3
   },
   "file_extension": ".py",
   "mimetype": "text/x-python",
   "name": "python",
   "nbconvert_exporter": "python",
   "pygments_lexer": "ipython3",
   "version": "3.9.7"
  }
 },
 "nbformat": 4,
 "nbformat_minor": 5
}
