{
 "cells": [
  {
   "cell_type": "markdown",
   "id": "602cd6b0",
   "metadata": {},
   "source": [
    "1. In the below elements which of them are values or an expression? eg:- values can be integer or string and expressions will be mathematical operators.\n",
    "* \n",
    "'hello': value\n",
    "-87.8: value\n",
    "- : expression\n",
    "/ :expression\n",
    "\n",
    "\n",
    "6 : value\n",
    "\n",
    "2. What is the difference between string and variable?\n",
    "string is a data type. If any information is provided between \"\" it is considered as string. Varaible is used to store infomation which can be later used in a code. for eg x=\"python is amazing\". Here x is variable and \"python is amazing\" is string.\n",
    "\n",
    "3. Describe three different data types.\n",
    "Boolean: It stores True/False. \n",
    "Integer: Its stores whole numbers. \n",
    "string: It is used to store text\n",
    "\n",
    "4. What is an expression made up of? What do all expressions do?\n",
    "An expression is a combination of values, variables, operators, and calls to functions. Expressions need to be evaluated. If you ask Python to print an expression, the interpreter evaluates the expression and displays the result.\n",
    "\n",
    "\n",
    "5. This assignment statements, like spam = 10. What is the difference between an expression and a statement?\n",
    "Expression needs to be evaluted while statement can be executed by python. An expression evaluates to a single value while statement does not.\n",
    "\n",
    "6. After running the following code, what does the variable bacon contain?\n",
    "bacon = 22\n",
    "bacon + 1\n",
    "bacon will contain 22 as we have not reassigned value after increment\n",
    "\n",
    "\n",
    "7. What should the values of the following two terms be?\n",
    "'spam' + 'spamspam': spamspamspam\n",
    "'spam' * 3: spamspamspam\n",
    "\n",
    "\n",
    "8. Why is eggs a valid variable name while 100 is invalid?\n",
    "Variable names cannot begin with a number.\n",
    "\n",
    "9. What three functions can be used to get the integer, floating-point number, or string version of a value?\n",
    "int(),float(),str()\n",
    "\n",
    "10. Why does this expression cause an error? How can you fix it?\n",
    "'I have eaten ' + 99 + ' burritos.'\n",
    "'I have eaten ' + '99' + ' burritos.'\n",
    "\n"
   ]
  }
 ],
 "metadata": {
  "kernelspec": {
   "display_name": "Python 3 (ipykernel)",
   "language": "python",
   "name": "python3"
  },
  "language_info": {
   "codemirror_mode": {
    "name": "ipython",
    "version": 3
   },
   "file_extension": ".py",
   "mimetype": "text/x-python",
   "name": "python",
   "nbconvert_exporter": "python",
   "pygments_lexer": "ipython3",
   "version": "3.9.7"
  }
 },
 "nbformat": 4,
 "nbformat_minor": 5
}
