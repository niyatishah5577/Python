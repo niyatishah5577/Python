{
 "cells": [
  {
   "cell_type": "markdown",
   "id": "7c2dd434",
   "metadata": {},
   "source": [
    "1. What are escape characters, and how do you use them?\n",
    "escape characters are followed by backslash\n",
    "\\'\tSingle Quote\t\n",
    "\\\\\tBackslash\t\n",
    "\\n\tNew Line\t\n",
    "\\r\tCarriage Return\t\n",
    "\\t\tTab\t\n",
    "\\b\tBackspace\t\n",
    "\\f\tForm Feed\t\n",
    "\\ooo\tOctal value\t\n",
    "\\xhh\tHex value\n",
    "\n",
    "2. What do the escape characters n and t stand for?\n",
    "n for new line and t for tab\n",
    "\n",
    "3. What is the way to include backslash characters in a string?\n",
    "by using two backslashes\n",
    "\n",
    "4. The string \"Howl's Moving Castle\" is a correct value. Why isn't the single quote character in the word Howl's not escaped a problem?\n",
    "because entire string is quoted using double quotes\n",
    "\n",
    "5. How do you write a string of newlines if you don't want to use the n character?\n",
    "\"\"\"\n",
    "    hii,\n",
    "    hello,\n",
    "    howdy\n",
    "\"\"\"\n",
    "6. What are the values of the given expressions?\n",
    "'Hello, world!'[1]\n",
    "'e'\n",
    "'Hello, world!'[0:5]\n",
    "'Hello'\n",
    "'Hello, world!'[:5]\n",
    "'Hello'\n",
    "'Hello, world!'[3:]\n",
    "'lo, world!'\n",
    "\n",
    "7. What are the values of the following expressions?\n",
    "'Hello'.upper()\n",
    "'HELLO'\n",
    "'Hello'.upper().isupper()\n",
    "True\n",
    "'Hello'.upper().lower()\n",
    "'hello'\n",
    "\n",
    "8. What are the values of the following expressions?\n",
    "'Remember, remember, the fifth of July.'.split()\n",
    "['Remember,', 'remember,', 'the', 'fifth', 'of', 'July.']\n",
    "'-'.join('There can only one.'.split())\n",
    "'There-can-only-one.'\n",
    "\n",
    "9. What are the methods for right-justifying, left-justifying, and centering a string?\n",
    "ljust(), rjust(), center()\n",
    "\n",
    "10. What is the best way to remove whitespace characters from the start or end?\n",
    "trim(),trimstart(),trimend()\n"
   ]
  }
 ],
 "metadata": {
  "kernelspec": {
   "display_name": "Python 3 (ipykernel)",
   "language": "python",
   "name": "python3"
  },
  "language_info": {
   "codemirror_mode": {
    "name": "ipython",
    "version": 3
   },
   "file_extension": ".py",
   "mimetype": "text/x-python",
   "name": "python",
   "nbconvert_exporter": "python",
   "pygments_lexer": "ipython3",
   "version": "3.9.7"
  }
 },
 "nbformat": 4,
 "nbformat_minor": 5
}
