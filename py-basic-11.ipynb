{
 "cells": [
  {
   "cell_type": "code",
   "execution_count": null,
   "id": "d0aaf25a",
   "metadata": {},
   "outputs": [],
   "source": [
    "1. Create an assert statement that throws an AssertionError if the variable spam is a negative integer.\n",
    "assert x > 0, 'Only positive numbers are allowed'\n",
    "2. Write an assert statement that triggers an AssertionError if the variables eggs and bacon contain strings that are the same as each other, even if their cases are different (that is, 'hello' and 'hello' are considered the same, and 'goodbye' and 'GOODbye' are also considered the same)\n",
    "assert spam.lower()!=bacon.lower(), \"Spam and Bacon are same\".\n",
    "3. Create an assert statement that throws an AssertionError every time.\n",
    "assert False,\"here is an assertion error\"\n",
    "4. What are the two lines that must be present in your software in order to call logging.debug()?\n",
    "import logging\n",
    "logging.basicConfig(level=logging.DEBUG, format=' %(asctime)s -\n",
    "%(levelname)s - %(message)s')\n",
    "5. What are the two lines that your program must have in order to have logging.debug() send a logging message to a file named programLog.txt?\n",
    "                    import logging\n",
    ">>> logging.basicConfig(filename='programLog.txt', level=logging.DEBUG,\n",
    "format=' %(asctime)s - %(levelname)s - %(message)s')\n",
    "6. What are the five levels of logging?\n",
    "      DEBUG, INFO, WARNING, ERROR, and CRITICAL\n",
    "              \n",
    "7. What line of code would you add to your software to disable all logging messages?\n",
    "          logging.disable(logging.CRITICAL)          \n",
    "8.Why is using logging messages better than using print() to display the same message?\n",
    "        You can disable logging messages without removing the logging function calls. You can selectively disable lower-level logging messages. You can create logging messages. Logging messages provides a timestamp.     \n",
    "9. What are the differences between the Step Over, Step In, and Step Out buttons in the debugger?\n",
    "                    The Step button will move the debugger into a function call. The Over button will quickly execute the function call without stepping into it. The Out button will quickly execute the rest of the code until it steps out of the function it currently is in.\n",
    "10.After you click Continue, when will the debugger stop ?\n",
    "                After you click Go, the debugger will stop when it has reached the end of the program or a line with a breakpoint.    \n",
    "11. What is the concept of a breakpoint?\n",
    "A breakpoint is a setting on a line of code that causes the debugger to pause when the program execution reaches the line.\n"
   ]
  },
  {
   "cell_type": "code",
   "execution_count": 7,
   "id": "f90b319e",
   "metadata": {},
   "outputs": [
    {
     "ename": "AssertionError",
     "evalue": "here is an assertion error",
     "output_type": "error",
     "traceback": [
      "\u001b[1;31m---------------------------------------------------------------------------\u001b[0m",
      "\u001b[1;31mAssertionError\u001b[0m                            Traceback (most recent call last)",
      "\u001b[1;32m~\\AppData\\Local\\Temp/ipykernel_5216/270890558.py\u001b[0m in \u001b[0;36m<module>\u001b[1;34m\u001b[0m\n\u001b[1;32m----> 1\u001b[1;33m \u001b[1;32massert\u001b[0m \u001b[1;32mFalse\u001b[0m\u001b[1;33m,\u001b[0m\u001b[1;34m\"here is an assertion error\"\u001b[0m\u001b[1;33m\u001b[0m\u001b[1;33m\u001b[0m\u001b[0m\n\u001b[0m",
      "\u001b[1;31mAssertionError\u001b[0m: here is an assertion error"
     ]
    }
   ],
   "source": [
    "\n"
   ]
  },
  {
   "cell_type": "code",
   "execution_count": null,
   "id": "e0462aa4",
   "metadata": {},
   "outputs": [],
   "source": []
  }
 ],
 "metadata": {
  "kernelspec": {
   "display_name": "Python 3 (ipykernel)",
   "language": "python",
   "name": "python3"
  },
  "language_info": {
   "codemirror_mode": {
    "name": "ipython",
    "version": 3
   },
   "file_extension": ".py",
   "mimetype": "text/x-python",
   "name": "python",
   "nbconvert_exporter": "python",
   "pygments_lexer": "ipython3",
   "version": "3.9.7"
  }
 },
 "nbformat": 4,
 "nbformat_minor": 5
}
