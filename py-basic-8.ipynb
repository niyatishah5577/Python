{
 "cells": [
  {
   "cell_type": "markdown",
   "id": "05e090ea",
   "metadata": {},
   "source": [
    "1. Is the Python Standard Library included with PyInputPlus?\n",
    "no\n",
    "2. Why is PyInputPlus commonly imported with import pyinputplus as pypi?\n",
    "It is recommended in library's documentation to import it as pyip.\n",
    "\n",
    "3. How do you distinguish between inputInt() and inputFloat()?\n",
    "inputInt will not take in any decimal values while inputFloat will take integer and convert it into decimal float value\n",
    "4. Using PyInputPlus, how do you ensure that the user enters a whole number between 0 and 99?\n",
    "pyip.inputInt(min=0,max=99)\n",
    "5. What is transferred to the keyword arguments allowRegexes and blockRegexes?\n",
    "we pass an regex in both the keywords to allow or disallow any particular format of string\n",
    "6. If a blank input is entered three times, what does inputStr(limit=3) do?\n",
    "limit=3 does not allow more than three trials for input\n",
    "7. If blank input is entered three times, what does inputStr(limit=3, default='hello') do?\n",
    "after three trials it will consider default string as input.\n"
   ]
  }
 ],
 "metadata": {
  "kernelspec": {
   "display_name": "Python 3 (ipykernel)",
   "language": "python",
   "name": "python3"
  },
  "language_info": {
   "codemirror_mode": {
    "name": "ipython",
    "version": 3
   },
   "file_extension": ".py",
   "mimetype": "text/x-python",
   "name": "python",
   "nbconvert_exporter": "python",
   "pygments_lexer": "ipython3",
   "version": "3.9.7"
  }
 },
 "nbformat": 4,
 "nbformat_minor": 5
}
