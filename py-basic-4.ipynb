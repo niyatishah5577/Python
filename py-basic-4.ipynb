{
 "cells": [
  {
   "cell_type": "markdown",
   "id": "e3fca70d",
   "metadata": {},
   "source": [
    "1. What exactly is []?\n",
    "it is a empty list\n",
    "\n",
    "2. In a list of values stored in a variable called spam, how would you assign the value 'hello' as the third value? (Assume [2, 4, 6, 8, 10] are in spam.)\n",
    "spam[2]='hello'\n",
    "\n",
    "Let's pretend the spam includes the list ['a', 'b', 'c', 'd'] for the next three queries.\n",
    "3. What is the value of spam[int(int('3' * 2) / 11)]?\n",
    "'d'\n",
    "\n",
    "4. What is the value of spam[-1]?\n",
    "'d'\n",
    "5. What is the value of spam[:2]?\n",
    "['a', 'b']\n",
    "\n",
    "Let's pretend bacon has the list [3.14, 'cat,' 11, 'cat,' True] for the next three questions.\n",
    "6. What is the value of bacon.index('cat')?\n",
    "1\n",
    "\n",
    "7. How does bacon.append(99) change the look of the list value in bacon?\n",
    "[3.14, 'cat', 11, 'cat', True, 99]\n",
    "\n",
    "8. How does bacon.remove('cat') change the look of the list in bacon?\n",
    "[3.14, 11, True, 99]\n",
    "\n",
    "9. What are the list concatenation and list replication operators?\n",
    "list concatenation: +\n",
    "list replication: *\n",
    "\n",
    "10. What is difference between the list methods append() and insert()?\n",
    "append adds the object at the end of the list while insert adds the object at the end of list. insert takes the index where new object is to be added.\n",
    "\n",
    "11. What are the two methods for removing items from a list?\n",
    "remove(),pop()\n",
    "\n",
    "12. Describe how list values and string values are identical.\n",
    "both list values and string values can be acessed through their index.\n",
    "\n",
    "13. What's the difference between tuples and lists?\n",
    "tuples are immutable while lists are mutable\n",
    "\n",
    "14. How do you type a tuple value that only contains the integer 42?\n",
    "x=(42)\n",
    "\n",
    "15. How do you get a list value's tuple form? How do you get a tuple value's list form?\n",
    "list can be converted to tuple by using  tuple() method and tuple can be converted using list() method\n",
    "\n",
    "16. Variables that \"contain\" list values are not necessarily lists themselves. Instead, what do they contain?\n",
    "\n",
    "17. How do you distinguish between copy.copy() and copy.deepcopy()?\n",
    "copy.copy() is called shallow copy while copy.deepcopy creates a deep copy()\n",
    "when we operate on nested list, the inner list objects refer to same element in both shallow copy and orignal so change in any inner element will bring change in both copy and orignal. however in case of deep copy each element has a seprate memory location and change in orignal dosent affect the copy and vice-versa"
   ]
  }
 ],
 "metadata": {
  "kernelspec": {
   "display_name": "Python 3 (ipykernel)",
   "language": "python",
   "name": "python3"
  },
  "language_info": {
   "codemirror_mode": {
    "name": "ipython",
    "version": 3
   },
   "file_extension": ".py",
   "mimetype": "text/x-python",
   "name": "python",
   "nbconvert_exporter": "python",
   "pygments_lexer": "ipython3",
   "version": "3.9.7"
  }
 },
 "nbformat": 4,
 "nbformat_minor": 5
}
